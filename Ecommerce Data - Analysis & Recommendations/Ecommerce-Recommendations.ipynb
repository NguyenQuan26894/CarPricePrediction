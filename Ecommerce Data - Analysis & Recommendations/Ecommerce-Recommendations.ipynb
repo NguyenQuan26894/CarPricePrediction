{
 "cells": [
  {
   "cell_type": "markdown",
   "id": "550f3f94",
   "metadata": {},
   "source": [
    "# 1/ Ước lượng doanh số bán hàng cho Tú"
   ]
  },
  {
   "cell_type": "markdown",
   "id": "bac492cd",
   "metadata": {},
   "source": [
    "## Bước 1: Thuyết phục Tú Website ABC.vn là uy tín"
   ]
  },
  {
   "cell_type": "markdown",
   "id": "cd3c7405",
   "metadata": {},
   "source": [
    "### Data cần thiết:"
   ]
  },
  {
   "cell_type": "markdown",
   "id": "7d3ad99f",
   "metadata": {},
   "source": [
    "- Tổng lượng Traffic của Website (ngày/tuần/tháng/quý/năm)\n",
    "- Số lượt xem trang\n",
    "- Time on site (thời gian trung bình 1 khách hàng truy cập & xem trên website)\n",
    "- Bounce rate (tỷ lệ thoát trang)\n",
    "- Tổng số lượng khách hàng đã đăng ký bán hàng trên trang\n",
    "- Số lượng khách hàng đăng ký mới theo ngày\n",
    "- Tổng số khách hàng theo dõi/ mua hàng trong category mỹ phẩm\n",
    "- Reviews/ Rating Website\n",
    "- Top 10 người bán có doanh thu cao nhất trong mảng mỹ phẩm"
   ]
  },
  {
   "cell_type": "markdown",
   "id": "afe2d65a",
   "metadata": {},
   "source": [
    "## Bước 2: Ước lượng tổng doanh thu cho Tú"
   ]
  },
  {
   "cell_type": "markdown",
   "id": "fe6c36f9",
   "metadata": {},
   "source": [
    "### Thông tin/Data cần thiết:"
   ]
  },
  {
   "cell_type": "markdown",
   "id": "16578ad4",
   "metadata": {},
   "source": [
    "- Tổng số người bán ngành hàng mỹ phẩm - Tú's Competitors\n",
    "- Doanh thu trung bình 1 tháng\n",
    "- Tổng số lượng sản phẩm/SKU\n",
    "- Đơn giá các SKU\n",
    "- Ngày người mua đặt hàng, ngày ship hàng, status hàng hóa(khách hàng nhận/ trả lại): các thông tin này sẽ ước lượng được trung bình số hàng bị trả lại trong tháng/ quý/ năm => cân đối được dòng tiền\n",
    "- Thông tin khuyến mãi trên website\n",
    "- Budget Tú có để marketing trang bán hàng của bản thân"
   ]
  },
  {
   "cell_type": "markdown",
   "id": "01b3adfd",
   "metadata": {},
   "source": [
    "### Dựa vào những data/ thông tin trên, ta có thể ước lượng được trung bình 1 ngày/ tuần/ tháng / quý / năm Tú bán được bao nhiêu sản phẩm, nhân với giá của từng SKU sẽ ra được total revenue, trừ đi chi phí marketing, discount (tùy vào chiến lược bán hàng của Tú), chi phí vận chuyển ... sẽ ra được profit"
   ]
  },
  {
   "cell_type": "markdown",
   "id": "96a5cb84",
   "metadata": {},
   "source": [
    "# Bài tập 2: phân tích data trên trang ABC.vn"
   ]
  },
  {
   "cell_type": "code",
   "execution_count": 1,
   "id": "b8986e4a",
   "metadata": {},
   "outputs": [
    {
     "name": "stdout",
     "output_type": "stream",
     "text": [
      "success\n"
     ]
    }
   ],
   "source": [
    "import pandas as pd\n",
    "import numpy as np\n",
    "import matplotlib.pyplot as plt\n",
    "print('success')"
   ]
  },
  {
   "cell_type": "code",
   "execution_count": 2,
   "id": "1834f5dd",
   "metadata": {},
   "outputs": [],
   "source": [
    "#df = pd.read_csv('C:/Users/quan.nguyen/Desktop/data/data_ecommerce.csv')\n",
    "df = pd.read_csv('C:/Users/NHQ/Desktop/MindX Test/data/data_ecommerce.csv')"
   ]
  },
  {
   "cell_type": "code",
   "execution_count": 3,
   "id": "e78f75ef",
   "metadata": {},
   "outputs": [
    {
     "name": "stdout",
     "output_type": "stream",
     "text": [
      "<class 'pandas.core.frame.DataFrame'>\n",
      "RangeIndex: 2145 entries, 0 to 2144\n",
      "Data columns (total 7 columns):\n",
      " #   Column                  Non-Null Count  Dtype \n",
      "---  ------                  --------------  ----- \n",
      " 0   Seller ID               2145 non-null   int64 \n",
      " 1   Seller's Main Category  2145 non-null   object\n",
      " 2   Sign-up Time            2145 non-null   object\n",
      " 3   Activation Time         2145 non-null   object\n",
      " 4   1st Listing             2145 non-null   object\n",
      " 5   1st Salable             2145 non-null   object\n",
      " 6   1st Transaction         2145 non-null   object\n",
      "dtypes: int64(1), object(6)\n",
      "memory usage: 117.4+ KB\n"
     ]
    }
   ],
   "source": [
    "df.info()"
   ]
  },
  {
   "cell_type": "markdown",
   "id": "f00bb9ce",
   "metadata": {},
   "source": [
    "### Convert object types to datetime"
   ]
  },
  {
   "cell_type": "code",
   "execution_count": 4,
   "id": "34c28bee",
   "metadata": {},
   "outputs": [],
   "source": [
    "df['Sign-up Time'] = pd.to_datetime(df['Sign-up Time'])\n",
    "df['Activation Time'] = pd.to_datetime(df['Activation Time'])\n",
    "df['1st Listing'] = pd.to_datetime(df['1st Listing'])\n",
    "df['1st Salable'] = pd.to_datetime(df['1st Salable'])\n",
    "df['1st Transaction'] = pd.to_datetime(df['1st Transaction'])"
   ]
  },
  {
   "cell_type": "code",
   "execution_count": 5,
   "id": "d7252834",
   "metadata": {},
   "outputs": [
    {
     "name": "stdout",
     "output_type": "stream",
     "text": [
      "<class 'pandas.core.frame.DataFrame'>\n",
      "RangeIndex: 2145 entries, 0 to 2144\n",
      "Data columns (total 7 columns):\n",
      " #   Column                  Non-Null Count  Dtype         \n",
      "---  ------                  --------------  -----         \n",
      " 0   Seller ID               2145 non-null   int64         \n",
      " 1   Seller's Main Category  2145 non-null   object        \n",
      " 2   Sign-up Time            2145 non-null   datetime64[ns]\n",
      " 3   Activation Time         2145 non-null   datetime64[ns]\n",
      " 4   1st Listing             2145 non-null   datetime64[ns]\n",
      " 5   1st Salable             2145 non-null   datetime64[ns]\n",
      " 6   1st Transaction         2145 non-null   datetime64[ns]\n",
      "dtypes: datetime64[ns](5), int64(1), object(1)\n",
      "memory usage: 117.4+ KB\n"
     ]
    }
   ],
   "source": [
    "df.info()"
   ]
  },
  {
   "cell_type": "markdown",
   "id": "0e296f47",
   "metadata": {},
   "source": [
    "### Check missing data/ duplicated "
   ]
  },
  {
   "cell_type": "code",
   "execution_count": 6,
   "id": "d636d807",
   "metadata": {},
   "outputs": [
    {
     "data": {
      "text/plain": [
       "Seller ID                 0\n",
       "Seller's Main Category    0\n",
       "Sign-up Time              0\n",
       "Activation Time           0\n",
       "1st Listing               0\n",
       "1st Salable               0\n",
       "1st Transaction           0\n",
       "dtype: int64"
      ]
     },
     "execution_count": 6,
     "metadata": {},
     "output_type": "execute_result"
    }
   ],
   "source": [
    "df.isna().sum()"
   ]
  },
  {
   "cell_type": "code",
   "execution_count": 7,
   "id": "d55f88d3",
   "metadata": {},
   "outputs": [
    {
     "data": {
      "text/plain": [
       "0"
      ]
     },
     "execution_count": 7,
     "metadata": {},
     "output_type": "execute_result"
    }
   ],
   "source": [
    "df['Seller ID'].duplicated().sum()"
   ]
  },
  {
   "cell_type": "code",
   "execution_count": 8,
   "id": "9c64d7c6",
   "metadata": {},
   "outputs": [
    {
     "data": {
      "text/plain": [
       "BBFF               1130\n",
       "LifeStyle           501\n",
       "Electronic          262\n",
       "Book                130\n",
       "Digital Service     122\n",
       "Name: Seller's Main Category, dtype: int64"
      ]
     },
     "execution_count": 8,
     "metadata": {},
     "output_type": "execute_result"
    }
   ],
   "source": [
    "df[\"Seller's Main Category\"].value_counts()"
   ]
  },
  {
   "cell_type": "code",
   "execution_count": 9,
   "id": "9866c97e",
   "metadata": {},
   "outputs": [
    {
     "data": {
      "text/html": [
       "<div>\n",
       "<style scoped>\n",
       "    .dataframe tbody tr th:only-of-type {\n",
       "        vertical-align: middle;\n",
       "    }\n",
       "\n",
       "    .dataframe tbody tr th {\n",
       "        vertical-align: top;\n",
       "    }\n",
       "\n",
       "    .dataframe thead th {\n",
       "        text-align: right;\n",
       "    }\n",
       "</style>\n",
       "<table border=\"1\" class=\"dataframe\">\n",
       "  <thead>\n",
       "    <tr style=\"text-align: right;\">\n",
       "      <th></th>\n",
       "      <th>Seller ID</th>\n",
       "      <th>Seller's Main Category</th>\n",
       "      <th>Sign-up Time</th>\n",
       "      <th>Activation Time</th>\n",
       "      <th>1st Listing</th>\n",
       "      <th>1st Salable</th>\n",
       "      <th>1st Transaction</th>\n",
       "    </tr>\n",
       "  </thead>\n",
       "  <tbody>\n",
       "    <tr>\n",
       "      <th>0</th>\n",
       "      <td>1</td>\n",
       "      <td>Electronic</td>\n",
       "      <td>2017-09-20</td>\n",
       "      <td>2018-02-02</td>\n",
       "      <td>2018-02-07</td>\n",
       "      <td>2018-10-06</td>\n",
       "      <td>2018-10-10</td>\n",
       "    </tr>\n",
       "    <tr>\n",
       "      <th>1</th>\n",
       "      <td>2</td>\n",
       "      <td>BBFF</td>\n",
       "      <td>2017-08-19</td>\n",
       "      <td>2018-05-24</td>\n",
       "      <td>2018-08-13</td>\n",
       "      <td>2018-08-14</td>\n",
       "      <td>2018-09-02</td>\n",
       "    </tr>\n",
       "    <tr>\n",
       "      <th>2</th>\n",
       "      <td>3</td>\n",
       "      <td>BBFF</td>\n",
       "      <td>2017-12-04</td>\n",
       "      <td>2018-05-04</td>\n",
       "      <td>2018-10-06</td>\n",
       "      <td>2018-10-10</td>\n",
       "      <td>2018-10-12</td>\n",
       "    </tr>\n",
       "    <tr>\n",
       "      <th>3</th>\n",
       "      <td>4</td>\n",
       "      <td>BBFF</td>\n",
       "      <td>2017-10-16</td>\n",
       "      <td>2018-04-23</td>\n",
       "      <td>2018-07-04</td>\n",
       "      <td>2018-07-10</td>\n",
       "      <td>2018-07-10</td>\n",
       "    </tr>\n",
       "    <tr>\n",
       "      <th>4</th>\n",
       "      <td>5</td>\n",
       "      <td>BBFF</td>\n",
       "      <td>2017-12-13</td>\n",
       "      <td>2018-07-25</td>\n",
       "      <td>2018-08-30</td>\n",
       "      <td>2018-08-31</td>\n",
       "      <td>2018-09-14</td>\n",
       "    </tr>\n",
       "  </tbody>\n",
       "</table>\n",
       "</div>"
      ],
      "text/plain": [
       "   Seller ID Seller's Main Category Sign-up Time Activation Time 1st Listing  \\\n",
       "0          1             Electronic   2017-09-20      2018-02-02  2018-02-07   \n",
       "1          2                   BBFF   2017-08-19      2018-05-24  2018-08-13   \n",
       "2          3                   BBFF   2017-12-04      2018-05-04  2018-10-06   \n",
       "3          4                   BBFF   2017-10-16      2018-04-23  2018-07-04   \n",
       "4          5                   BBFF   2017-12-13      2018-07-25  2018-08-30   \n",
       "\n",
       "  1st Salable 1st Transaction  \n",
       "0  2018-10-06      2018-10-10  \n",
       "1  2018-08-14      2018-09-02  \n",
       "2  2018-10-10      2018-10-12  \n",
       "3  2018-07-10      2018-07-10  \n",
       "4  2018-08-31      2018-09-14  "
      ]
     },
     "execution_count": 9,
     "metadata": {},
     "output_type": "execute_result"
    }
   ],
   "source": [
    "df.head()"
   ]
  },
  {
   "cell_type": "markdown",
   "id": "96e12dff",
   "metadata": {},
   "source": [
    "## Analyze data & Find problems"
   ]
  },
  {
   "cell_type": "code",
   "execution_count": 10,
   "id": "4ba238ca",
   "metadata": {},
   "outputs": [],
   "source": [
    "df['Successfully Activation Time'] = df['Activation Time'] - df['Sign-up Time']\n",
    "df['Users Listing Time'] = df['1st Listing'] - df['Activation Time']\n",
    "df['Saleable Time'] = df['1st Salable'] - df['1st Listing']\n",
    "df['Transaction After Salable Time'] = df['1st Transaction'] - df['1st Salable']\n",
    "df['Overall Processing Time'] = df['1st Transaction'] - df['Sign-up Time']"
   ]
  },
  {
   "cell_type": "code",
   "execution_count": 11,
   "id": "7712afa5",
   "metadata": {},
   "outputs": [
    {
     "data": {
      "text/html": [
       "<div>\n",
       "<style scoped>\n",
       "    .dataframe tbody tr th:only-of-type {\n",
       "        vertical-align: middle;\n",
       "    }\n",
       "\n",
       "    .dataframe tbody tr th {\n",
       "        vertical-align: top;\n",
       "    }\n",
       "\n",
       "    .dataframe thead th {\n",
       "        text-align: right;\n",
       "    }\n",
       "</style>\n",
       "<table border=\"1\" class=\"dataframe\">\n",
       "  <thead>\n",
       "    <tr style=\"text-align: right;\">\n",
       "      <th></th>\n",
       "      <th>Seller ID</th>\n",
       "      <th>Seller's Main Category</th>\n",
       "      <th>Sign-up Time</th>\n",
       "      <th>Activation Time</th>\n",
       "      <th>1st Listing</th>\n",
       "      <th>1st Salable</th>\n",
       "      <th>1st Transaction</th>\n",
       "      <th>Successfully Activation Time</th>\n",
       "      <th>Users Listing Time</th>\n",
       "      <th>Saleable Time</th>\n",
       "      <th>Transaction After Salable Time</th>\n",
       "      <th>Overall Processing Time</th>\n",
       "    </tr>\n",
       "  </thead>\n",
       "  <tbody>\n",
       "    <tr>\n",
       "      <th>0</th>\n",
       "      <td>1</td>\n",
       "      <td>Electronic</td>\n",
       "      <td>2017-09-20</td>\n",
       "      <td>2018-02-02</td>\n",
       "      <td>2018-02-07</td>\n",
       "      <td>2018-10-06</td>\n",
       "      <td>2018-10-10</td>\n",
       "      <td>135 days</td>\n",
       "      <td>5 days</td>\n",
       "      <td>241 days</td>\n",
       "      <td>4 days</td>\n",
       "      <td>385 days</td>\n",
       "    </tr>\n",
       "    <tr>\n",
       "      <th>1</th>\n",
       "      <td>2</td>\n",
       "      <td>BBFF</td>\n",
       "      <td>2017-08-19</td>\n",
       "      <td>2018-05-24</td>\n",
       "      <td>2018-08-13</td>\n",
       "      <td>2018-08-14</td>\n",
       "      <td>2018-09-02</td>\n",
       "      <td>278 days</td>\n",
       "      <td>81 days</td>\n",
       "      <td>1 days</td>\n",
       "      <td>19 days</td>\n",
       "      <td>379 days</td>\n",
       "    </tr>\n",
       "    <tr>\n",
       "      <th>2</th>\n",
       "      <td>3</td>\n",
       "      <td>BBFF</td>\n",
       "      <td>2017-12-04</td>\n",
       "      <td>2018-05-04</td>\n",
       "      <td>2018-10-06</td>\n",
       "      <td>2018-10-10</td>\n",
       "      <td>2018-10-12</td>\n",
       "      <td>151 days</td>\n",
       "      <td>155 days</td>\n",
       "      <td>4 days</td>\n",
       "      <td>2 days</td>\n",
       "      <td>312 days</td>\n",
       "    </tr>\n",
       "    <tr>\n",
       "      <th>3</th>\n",
       "      <td>4</td>\n",
       "      <td>BBFF</td>\n",
       "      <td>2017-10-16</td>\n",
       "      <td>2018-04-23</td>\n",
       "      <td>2018-07-04</td>\n",
       "      <td>2018-07-10</td>\n",
       "      <td>2018-07-10</td>\n",
       "      <td>189 days</td>\n",
       "      <td>72 days</td>\n",
       "      <td>6 days</td>\n",
       "      <td>0 days</td>\n",
       "      <td>267 days</td>\n",
       "    </tr>\n",
       "    <tr>\n",
       "      <th>4</th>\n",
       "      <td>5</td>\n",
       "      <td>BBFF</td>\n",
       "      <td>2017-12-13</td>\n",
       "      <td>2018-07-25</td>\n",
       "      <td>2018-08-30</td>\n",
       "      <td>2018-08-31</td>\n",
       "      <td>2018-09-14</td>\n",
       "      <td>224 days</td>\n",
       "      <td>36 days</td>\n",
       "      <td>1 days</td>\n",
       "      <td>14 days</td>\n",
       "      <td>275 days</td>\n",
       "    </tr>\n",
       "  </tbody>\n",
       "</table>\n",
       "</div>"
      ],
      "text/plain": [
       "   Seller ID Seller's Main Category Sign-up Time Activation Time 1st Listing  \\\n",
       "0          1             Electronic   2017-09-20      2018-02-02  2018-02-07   \n",
       "1          2                   BBFF   2017-08-19      2018-05-24  2018-08-13   \n",
       "2          3                   BBFF   2017-12-04      2018-05-04  2018-10-06   \n",
       "3          4                   BBFF   2017-10-16      2018-04-23  2018-07-04   \n",
       "4          5                   BBFF   2017-12-13      2018-07-25  2018-08-30   \n",
       "\n",
       "  1st Salable 1st Transaction Successfully Activation Time Users Listing Time  \\\n",
       "0  2018-10-06      2018-10-10                     135 days             5 days   \n",
       "1  2018-08-14      2018-09-02                     278 days            81 days   \n",
       "2  2018-10-10      2018-10-12                     151 days           155 days   \n",
       "3  2018-07-10      2018-07-10                     189 days            72 days   \n",
       "4  2018-08-31      2018-09-14                     224 days            36 days   \n",
       "\n",
       "  Saleable Time Transaction After Salable Time Overall Processing Time  \n",
       "0      241 days                         4 days                385 days  \n",
       "1        1 days                        19 days                379 days  \n",
       "2        4 days                         2 days                312 days  \n",
       "3        6 days                         0 days                267 days  \n",
       "4        1 days                        14 days                275 days  "
      ]
     },
     "execution_count": 11,
     "metadata": {},
     "output_type": "execute_result"
    }
   ],
   "source": [
    "df.head()"
   ]
  },
  {
   "cell_type": "code",
   "execution_count": 12,
   "id": "6a41a62b",
   "metadata": {},
   "outputs": [
    {
     "data": {
      "text/html": [
       "<div>\n",
       "<style scoped>\n",
       "    .dataframe tbody tr th:only-of-type {\n",
       "        vertical-align: middle;\n",
       "    }\n",
       "\n",
       "    .dataframe tbody tr th {\n",
       "        vertical-align: top;\n",
       "    }\n",
       "\n",
       "    .dataframe thead th {\n",
       "        text-align: right;\n",
       "    }\n",
       "</style>\n",
       "<table border=\"1\" class=\"dataframe\">\n",
       "  <thead>\n",
       "    <tr style=\"text-align: right;\">\n",
       "      <th></th>\n",
       "      <th>Seller ID</th>\n",
       "      <th>Successfully Activation Time</th>\n",
       "      <th>Users Listing Time</th>\n",
       "      <th>Saleable Time</th>\n",
       "      <th>Transaction After Salable Time</th>\n",
       "      <th>Overall Processing Time</th>\n",
       "    </tr>\n",
       "  </thead>\n",
       "  <tbody>\n",
       "    <tr>\n",
       "      <th>count</th>\n",
       "      <td>2145.000000</td>\n",
       "      <td>2145</td>\n",
       "      <td>2145</td>\n",
       "      <td>2145</td>\n",
       "      <td>2145</td>\n",
       "      <td>2145</td>\n",
       "    </tr>\n",
       "    <tr>\n",
       "      <th>mean</th>\n",
       "      <td>1073.000000</td>\n",
       "      <td>16 days 08:12:45.314685314</td>\n",
       "      <td>12 days 01:41:22.237762237</td>\n",
       "      <td>12 days 05:14:10.909090909</td>\n",
       "      <td>11 days 03:09:18.881118881</td>\n",
       "      <td>51 days 18:17:37.342657342</td>\n",
       "    </tr>\n",
       "    <tr>\n",
       "      <th>std</th>\n",
       "      <td>619.352484</td>\n",
       "      <td>23 days 17:48:13.026868650</td>\n",
       "      <td>25 days 16:22:05.383958883</td>\n",
       "      <td>20 days 12:02:37.148272311</td>\n",
       "      <td>20 days 09:07:26.367678313</td>\n",
       "      <td>43 days 13:00:25.460412069</td>\n",
       "    </tr>\n",
       "    <tr>\n",
       "      <th>min</th>\n",
       "      <td>1.000000</td>\n",
       "      <td>0 days 00:00:00</td>\n",
       "      <td>-129 days +00:00:00</td>\n",
       "      <td>-2 days +00:00:00</td>\n",
       "      <td>-9 days +00:00:00</td>\n",
       "      <td>1 days 00:00:00</td>\n",
       "    </tr>\n",
       "    <tr>\n",
       "      <th>25%</th>\n",
       "      <td>537.000000</td>\n",
       "      <td>4 days 00:00:00</td>\n",
       "      <td>0 days 00:00:00</td>\n",
       "      <td>1 days 00:00:00</td>\n",
       "      <td>1 days 00:00:00</td>\n",
       "      <td>22 days 00:00:00</td>\n",
       "    </tr>\n",
       "    <tr>\n",
       "      <th>50%</th>\n",
       "      <td>1073.000000</td>\n",
       "      <td>8 days 00:00:00</td>\n",
       "      <td>6 days 00:00:00</td>\n",
       "      <td>5 days 00:00:00</td>\n",
       "      <td>4 days 00:00:00</td>\n",
       "      <td>39 days 00:00:00</td>\n",
       "    </tr>\n",
       "    <tr>\n",
       "      <th>75%</th>\n",
       "      <td>1609.000000</td>\n",
       "      <td>19 days 00:00:00</td>\n",
       "      <td>18 days 00:00:00</td>\n",
       "      <td>14 days 00:00:00</td>\n",
       "      <td>12 days 00:00:00</td>\n",
       "      <td>69 days 00:00:00</td>\n",
       "    </tr>\n",
       "    <tr>\n",
       "      <th>max</th>\n",
       "      <td>2145.000000</td>\n",
       "      <td>278 days 00:00:00</td>\n",
       "      <td>209 days 00:00:00</td>\n",
       "      <td>241 days 00:00:00</td>\n",
       "      <td>193 days 00:00:00</td>\n",
       "      <td>385 days 00:00:00</td>\n",
       "    </tr>\n",
       "  </tbody>\n",
       "</table>\n",
       "</div>"
      ],
      "text/plain": [
       "         Seller ID Successfully Activation Time          Users Listing Time  \\\n",
       "count  2145.000000                         2145                        2145   \n",
       "mean   1073.000000   16 days 08:12:45.314685314  12 days 01:41:22.237762237   \n",
       "std     619.352484   23 days 17:48:13.026868650  25 days 16:22:05.383958883   \n",
       "min       1.000000              0 days 00:00:00         -129 days +00:00:00   \n",
       "25%     537.000000              4 days 00:00:00             0 days 00:00:00   \n",
       "50%    1073.000000              8 days 00:00:00             6 days 00:00:00   \n",
       "75%    1609.000000             19 days 00:00:00            18 days 00:00:00   \n",
       "max    2145.000000            278 days 00:00:00           209 days 00:00:00   \n",
       "\n",
       "                    Saleable Time Transaction After Salable Time  \\\n",
       "count                        2145                           2145   \n",
       "mean   12 days 05:14:10.909090909     11 days 03:09:18.881118881   \n",
       "std    20 days 12:02:37.148272311     20 days 09:07:26.367678313   \n",
       "min             -2 days +00:00:00              -9 days +00:00:00   \n",
       "25%               1 days 00:00:00                1 days 00:00:00   \n",
       "50%               5 days 00:00:00                4 days 00:00:00   \n",
       "75%              14 days 00:00:00               12 days 00:00:00   \n",
       "max             241 days 00:00:00              193 days 00:00:00   \n",
       "\n",
       "          Overall Processing Time  \n",
       "count                        2145  \n",
       "mean   51 days 18:17:37.342657342  \n",
       "std    43 days 13:00:25.460412069  \n",
       "min               1 days 00:00:00  \n",
       "25%              22 days 00:00:00  \n",
       "50%              39 days 00:00:00  \n",
       "75%              69 days 00:00:00  \n",
       "max             385 days 00:00:00  "
      ]
     },
     "execution_count": 12,
     "metadata": {},
     "output_type": "execute_result"
    }
   ],
   "source": [
    "df.describe()"
   ]
  },
  {
   "cell_type": "code",
   "execution_count": 13,
   "id": "69e0e942",
   "metadata": {},
   "outputs": [],
   "source": [
    "df1 =df.groupby(\"Seller's Main Category\")['Overall Processing Time'].mean()"
   ]
  },
  {
   "cell_type": "code",
   "execution_count": 14,
   "id": "02aebfb6",
   "metadata": {},
   "outputs": [
    {
     "data": {
      "text/plain": [
       "Seller's Main Category\n",
       "BBFF              51 days 23:42:09.557522124\n",
       "Book              38 days 14:35:04.615384615\n",
       "Digital Service   57 days 15:20:39.344262295\n",
       "Electronic        52 days 23:05:02.290076336\n",
       "LifeStyle         52 days 14:36:38.802395210\n",
       "Name: Overall Processing Time, dtype: timedelta64[ns]"
      ]
     },
     "execution_count": 14,
     "metadata": {},
     "output_type": "execute_result"
    }
   ],
   "source": [
    "df1"
   ]
  },
  {
   "cell_type": "code",
   "execution_count": 15,
   "id": "1c36bca2",
   "metadata": {},
   "outputs": [],
   "source": [
    "df2 = df.groupby(\"Seller's Main Category\")['Successfully Activation Time'].mean()"
   ]
  },
  {
   "cell_type": "code",
   "execution_count": 16,
   "id": "3100bb20",
   "metadata": {},
   "outputs": [
    {
     "data": {
      "text/plain": [
       "Seller's Main Category\n",
       "BBFF              15 days 20:22:05.309734513\n",
       "Book              16 days 20:51:41.538461538\n",
       "Digital Service   23 days 01:10:49.180327868\n",
       "Electronic        14 days 14:00:54.961832061\n",
       "LifeStyle         16 days 14:30:53.892215568\n",
       "Name: Successfully Activation Time, dtype: timedelta64[ns]"
      ]
     },
     "execution_count": 16,
     "metadata": {},
     "output_type": "execute_result"
    }
   ],
   "source": [
    "df2"
   ]
  },
  {
   "cell_type": "markdown",
   "id": "0e309df5",
   "metadata": {},
   "source": [
    "### Convert datetime to numbers to plot "
   ]
  },
  {
   "cell_type": "code",
   "execution_count": 17,
   "id": "dd7f1fe9",
   "metadata": {},
   "outputs": [],
   "source": [
    "df3 = df\n",
    "df3['Successfully Activation Time'] =df3['Successfully Activation Time'].dt.days\n",
    "df3['Users Listing Time'] =df3['Users Listing Time'].dt.days\n",
    "df3['Saleable Time'] = df3['Saleable Time'].dt.days\n",
    "df3['Transaction After Salable Time'] = df3['Transaction After Salable Time'].dt.days\n",
    "df3['Overall Processing Time'] = df3['Overall Processing Time'].dt.days"
   ]
  },
  {
   "cell_type": "code",
   "execution_count": 18,
   "id": "44b0cc38",
   "metadata": {},
   "outputs": [
    {
     "data": {
      "text/html": [
       "<div>\n",
       "<style scoped>\n",
       "    .dataframe tbody tr th:only-of-type {\n",
       "        vertical-align: middle;\n",
       "    }\n",
       "\n",
       "    .dataframe tbody tr th {\n",
       "        vertical-align: top;\n",
       "    }\n",
       "\n",
       "    .dataframe thead th {\n",
       "        text-align: right;\n",
       "    }\n",
       "</style>\n",
       "<table border=\"1\" class=\"dataframe\">\n",
       "  <thead>\n",
       "    <tr style=\"text-align: right;\">\n",
       "      <th></th>\n",
       "      <th>Seller ID</th>\n",
       "      <th>Seller's Main Category</th>\n",
       "      <th>Sign-up Time</th>\n",
       "      <th>Activation Time</th>\n",
       "      <th>1st Listing</th>\n",
       "      <th>1st Salable</th>\n",
       "      <th>1st Transaction</th>\n",
       "      <th>Successfully Activation Time</th>\n",
       "      <th>Users Listing Time</th>\n",
       "      <th>Saleable Time</th>\n",
       "      <th>Transaction After Salable Time</th>\n",
       "      <th>Overall Processing Time</th>\n",
       "    </tr>\n",
       "  </thead>\n",
       "  <tbody>\n",
       "    <tr>\n",
       "      <th>0</th>\n",
       "      <td>1</td>\n",
       "      <td>Electronic</td>\n",
       "      <td>2017-09-20</td>\n",
       "      <td>2018-02-02</td>\n",
       "      <td>2018-02-07</td>\n",
       "      <td>2018-10-06</td>\n",
       "      <td>2018-10-10</td>\n",
       "      <td>135</td>\n",
       "      <td>5</td>\n",
       "      <td>241</td>\n",
       "      <td>4</td>\n",
       "      <td>385</td>\n",
       "    </tr>\n",
       "    <tr>\n",
       "      <th>1</th>\n",
       "      <td>2</td>\n",
       "      <td>BBFF</td>\n",
       "      <td>2017-08-19</td>\n",
       "      <td>2018-05-24</td>\n",
       "      <td>2018-08-13</td>\n",
       "      <td>2018-08-14</td>\n",
       "      <td>2018-09-02</td>\n",
       "      <td>278</td>\n",
       "      <td>81</td>\n",
       "      <td>1</td>\n",
       "      <td>19</td>\n",
       "      <td>379</td>\n",
       "    </tr>\n",
       "    <tr>\n",
       "      <th>2</th>\n",
       "      <td>3</td>\n",
       "      <td>BBFF</td>\n",
       "      <td>2017-12-04</td>\n",
       "      <td>2018-05-04</td>\n",
       "      <td>2018-10-06</td>\n",
       "      <td>2018-10-10</td>\n",
       "      <td>2018-10-12</td>\n",
       "      <td>151</td>\n",
       "      <td>155</td>\n",
       "      <td>4</td>\n",
       "      <td>2</td>\n",
       "      <td>312</td>\n",
       "    </tr>\n",
       "    <tr>\n",
       "      <th>3</th>\n",
       "      <td>4</td>\n",
       "      <td>BBFF</td>\n",
       "      <td>2017-10-16</td>\n",
       "      <td>2018-04-23</td>\n",
       "      <td>2018-07-04</td>\n",
       "      <td>2018-07-10</td>\n",
       "      <td>2018-07-10</td>\n",
       "      <td>189</td>\n",
       "      <td>72</td>\n",
       "      <td>6</td>\n",
       "      <td>0</td>\n",
       "      <td>267</td>\n",
       "    </tr>\n",
       "    <tr>\n",
       "      <th>4</th>\n",
       "      <td>5</td>\n",
       "      <td>BBFF</td>\n",
       "      <td>2017-12-13</td>\n",
       "      <td>2018-07-25</td>\n",
       "      <td>2018-08-30</td>\n",
       "      <td>2018-08-31</td>\n",
       "      <td>2018-09-14</td>\n",
       "      <td>224</td>\n",
       "      <td>36</td>\n",
       "      <td>1</td>\n",
       "      <td>14</td>\n",
       "      <td>275</td>\n",
       "    </tr>\n",
       "  </tbody>\n",
       "</table>\n",
       "</div>"
      ],
      "text/plain": [
       "   Seller ID Seller's Main Category Sign-up Time Activation Time 1st Listing  \\\n",
       "0          1             Electronic   2017-09-20      2018-02-02  2018-02-07   \n",
       "1          2                   BBFF   2017-08-19      2018-05-24  2018-08-13   \n",
       "2          3                   BBFF   2017-12-04      2018-05-04  2018-10-06   \n",
       "3          4                   BBFF   2017-10-16      2018-04-23  2018-07-04   \n",
       "4          5                   BBFF   2017-12-13      2018-07-25  2018-08-30   \n",
       "\n",
       "  1st Salable 1st Transaction  Successfully Activation Time  \\\n",
       "0  2018-10-06      2018-10-10                           135   \n",
       "1  2018-08-14      2018-09-02                           278   \n",
       "2  2018-10-10      2018-10-12                           151   \n",
       "3  2018-07-10      2018-07-10                           189   \n",
       "4  2018-08-31      2018-09-14                           224   \n",
       "\n",
       "   Users Listing Time  Saleable Time  Transaction After Salable Time  \\\n",
       "0                   5            241                               4   \n",
       "1                  81              1                              19   \n",
       "2                 155              4                               2   \n",
       "3                  72              6                               0   \n",
       "4                  36              1                              14   \n",
       "\n",
       "   Overall Processing Time  \n",
       "0                      385  \n",
       "1                      379  \n",
       "2                      312  \n",
       "3                      267  \n",
       "4                      275  "
      ]
     },
     "execution_count": 18,
     "metadata": {},
     "output_type": "execute_result"
    }
   ],
   "source": [
    "df3.head()"
   ]
  },
  {
   "cell_type": "markdown",
   "id": "8a303e22",
   "metadata": {},
   "source": [
    "### Plotting Boxplots"
   ]
  },
  {
   "cell_type": "code",
   "execution_count": 19,
   "id": "759baade",
   "metadata": {},
   "outputs": [],
   "source": [
    "import seaborn as sns"
   ]
  },
  {
   "cell_type": "code",
   "execution_count": 20,
   "id": "c14ca508",
   "metadata": {},
   "outputs": [
    {
     "data": {
      "image/png": "[encoded data removed]",
      "text/plain": [
       "<Figure size 1440x504 with 1 Axes>"
      ]
     },
     "metadata": {
      "needs_background": "light"
     },
     "output_type": "display_data"
    }
   ],
   "source": [
    "plt.figure(figsize =(20,7))\n",
    "ax = sns.boxplot(x=df3['Overall Processing Time'])"
   ]
  },
  {
   "cell_type": "code",
   "execution_count": 21,
   "id": "014db764",
   "metadata": {},
   "outputs": [
    {
     "data": {
      "image/png": "[encoded data removed]",
      "text/plain": [
       "<Figure size 1440x504 with 1 Axes>"
      ]
     },
     "metadata": {
      "needs_background": "light"
     },
     "output_type": "display_data"
    }
   ],
   "source": [
    "plt.figure(figsize =(20,7))\n",
    "ax = sns.boxplot(x=df3['Successfully Activation Time'],color='red')"
   ]
  },
  {
   "cell_type": "code",
   "execution_count": 22,
   "id": "55399e76",
   "metadata": {},
   "outputs": [
    {
     "data": {
      "image/png": "[encoded data removed]",
      "text/plain": [
       "<Figure size 1440x504 with 1 Axes>"
      ]
     },
     "metadata": {
      "needs_background": "light"
     },
     "output_type": "display_data"
    }
   ],
   "source": [
    "plt.figure(figsize =(20,7))\n",
    "ax = sns.boxplot(x=df3['Saleable Time'],color='green')"
   ]
  },
  {
   "cell_type": "markdown",
   "id": "bb629bfc",
   "metadata": {},
   "source": [
    "# Vấn đề của Website ABC.vn\n"
   ]
  },
  {
   "cell_type": "markdown",
   "id": "15e7ed66",
   "metadata": {},
   "source": [
    "- Có thể thấy ngay vấn đề của Website ABC.vn là thời gian trung bình cho toàn bộ quá trình từ lúc khách hàng đăng ký bán hàng đến lúc họ có đơn đầu tiên là rất dài ( trung bình 51 ngày - gần 2 tháng )\n",
    "- Thời gian trung bình từ lúc khách hàng đăng ký tham gia bán hàng đến lúc được xác nhận trung bình mất đến tận 16 ngày ( hơn 2 tuần). \n",
    "- Nhìn vào boxplot có thể thấy outliers rất nhiều,outliers thời gian xác nhận khách hàng đăng ký đều từ ~50 ngày - ~150 ngày, khoảng thời gian quá dài.\n",
    "\n",
    "Có thể kết luận Website đang vận hành không hiệu quả, khách hàng không được hỗ trợ kịp thời\n",
    "- Nếu có thêm data về số người rời bỏ/ inactive sẽ có thể kết luận được thêm việc hỗ trợ chậm trễ sẽ đem lại ảnh hưởng lớn thế nào đến công ty"
   ]
  },
  {
   "cell_type": "markdown",
   "id": "07438d64",
   "metadata": {},
   "source": [
    "### Nguyên nhân"
   ]
  },
  {
   "cell_type": "markdown",
   "id": "bc0f317a",
   "metadata": {},
   "source": [
    "- Communications giữa nhân viên & khách hàng không tốt/ miss thông tin của nhiều khách hàng dẫn đến tình trạng đến hơn 3 tháng mới xác nhận cho khách\n",
    "- Không đủ nhân sự support cho số lượng khách hàng đăng ký quá đông. Bộ phận hỗ trợ chưa được training bài bản dẫn đến tốc độ xử lý/ xác nhận đăng ký của khách hàng tốn nhiều thời gian\n",
    "- Việc mất trung bình 12 ngày (Salable Time) xác nhận khách hàng có thể bán được hàng sau khi họ up thông tin sản phẩm cũng là quá dài. Nguyên nhân có thể do khách hàng up sản phẩm chưa đúng cách, cũng có thể do process của công ty chậm"
   ]
  },
  {
   "cell_type": "markdown",
   "id": "92fc74f3",
   "metadata": {},
   "source": [
    "### Giải pháp"
   ]
  },
  {
   "cell_type": "markdown",
   "id": "bc87a60a",
   "metadata": {},
   "source": [
    "- Gather data khách hàng, lọc ra những khách hàng có sản phẩm lớn, tiềm năng đầu tư nhiều chi phí marketing nhằm allocate nhân sự có chuyên môn cao, kinh nghiệm để hướng dẫn/ tư vấn trực tiếp cho họ. \n",
    "- Cam kết nếu khách hàng đăng ký đúng mẫu, đầy đủ thông tin, thời gian xác nhận & approve cho họ phải trong tối đa 5 ngày\n",
    "- Tương tự như trên, sau khi khách hàng up sản phẩm đúng mẫu, đầy đủ thông tin, phải đảm bảo xác nhận cho họ trong tối đa 5 ngày để khách hàng có thể bán hàng được ngay\n",
    "- Survey khách hàng về UX/UI Website để tìm hiểu xem họ có gặp khó khăn gì trong việc đăng ký, up thông tin sản phẩm không để optimize từ đó cũng dễ cải thiện thời gian xác nhận đăng ký, xác nhận sản phẩm cho khách hàng.\n",
    "- Review & update guide hướng dẫn trên nhiều format (pdf guide, video guide, hands on guide ...) giúp khách hàng có thể tiếp cận dễ hơn & dễ hiểu guide hơn"
   ]
  },
  {
   "cell_type": "code",
   "execution_count": null,
   "id": "b11879fe",
   "metadata": {},
   "outputs": [],
   "source": []
  }
 ],
 "metadata": {
  "kernelspec": {
   "display_name": "Python 3 (ipykernel)",
   "language": "python",
   "name": "python3"
  },
  "language_info": {
   "codemirror_mode": {
    "name": "ipython",
    "version": 3
   },
   "file_extension": ".py",
   "mimetype": "text/x-python",
   "name": "python",
   "nbconvert_exporter": "python",
   "pygments_lexer": "ipython3",
   "version": "3.10.2"
  }
 },
 "nbformat": 4,
 "nbformat_minor": 5
}
