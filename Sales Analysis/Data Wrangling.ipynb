{
 "cells": [
  {
   "cell_type": "markdown",
   "id": "78b435b7",
   "metadata": {},
   "source": [
    "# Import dữ liệu từ file excel report_data.xlsx vào SQL server thành 2 bảng tên là “Order” và “Customer”. \n",
    "\n",
    "# File có 2 sheets muốn import vào azure data studio cần dùng azure data factory (chưa được học ...)"
   ]
  },
  {
   "cell_type": "code",
   "execution_count": 1,
   "id": "c94dedd4",
   "metadata": {},
   "outputs": [],
   "source": [
    "import pandas as pd\n",
    "import numpy as np\n"
   ]
  },
  {
   "cell_type": "code",
   "execution_count": 2,
   "id": "33efdc13",
   "metadata": {},
   "outputs": [],
   "source": [
    "#xls = pd.ExcelFile('C:/Users/quan.nguyen/Desktop/data/report_data.xlsx')\n",
    "xls = pd.ExcelFile('C:/Users/NHQ/Desktop/MindX Test/data/report_data.xlsx')\n",
    "orders = pd.read_excel(xls, 'Orders')\n",
    "customer = pd.read_excel(xls, 'Customer')"
   ]
  },
  {
   "cell_type": "markdown",
   "id": "ed77fcab",
   "metadata": {},
   "source": [
    "## Clean Data"
   ]
  },
  {
   "cell_type": "code",
   "execution_count": 18,
   "id": "eb65ab3c",
   "metadata": {},
   "outputs": [
    {
     "name": "stdout",
     "output_type": "stream",
     "text": [
      "<class 'pandas.core.frame.DataFrame'>\n",
      "RangeIndex: 9994 entries, 0 to 9993\n",
      "Data columns (total 17 columns):\n",
      " #   Column          Non-Null Count  Dtype         \n",
      "---  ------          --------------  -----         \n",
      " 0   Row ID          9994 non-null   int64         \n",
      " 1   Order ID        9994 non-null   object        \n",
      " 2   Order Date      9994 non-null   datetime64[ns]\n",
      " 3   Ship Date       9994 non-null   datetime64[ns]\n",
      " 4   Ship Mode       9994 non-null   object        \n",
      " 5   Customer ID     9994 non-null   object        \n",
      " 6   Country/Region  9994 non-null   object        \n",
      " 7   Postal Code     9983 non-null   float64       \n",
      " 8   Region          9994 non-null   object        \n",
      " 9   Product ID      9994 non-null   object        \n",
      " 10  Category        9994 non-null   object        \n",
      " 11  Sub-Category    9994 non-null   object        \n",
      " 12  Product Name    9994 non-null   object        \n",
      " 13  Sales           9994 non-null   float64       \n",
      " 14  Quantity        9994 non-null   int64         \n",
      " 15  Discount        9994 non-null   float64       \n",
      " 16  Profit          9994 non-null   float64       \n",
      "dtypes: datetime64[ns](2), float64(4), int64(2), object(9)\n",
      "memory usage: 1.3+ MB\n"
     ]
    }
   ],
   "source": [
    "orders.info()"
   ]
  },
  {
   "cell_type": "code",
   "execution_count": 19,
   "id": "d05d4279",
   "metadata": {},
   "outputs": [
    {
     "name": "stdout",
     "output_type": "stream",
     "text": [
      "<class 'pandas.core.frame.DataFrame'>\n",
      "RangeIndex: 9994 entries, 0 to 9993\n",
      "Data columns (total 5 columns):\n",
      " #   Column         Non-Null Count  Dtype \n",
      "---  ------         --------------  ----- \n",
      " 0   Customer ID    9994 non-null   object\n",
      " 1   Customer Name  9994 non-null   object\n",
      " 2   Segment        9994 non-null   object\n",
      " 3   City           9994 non-null   object\n",
      " 4   State          9994 non-null   object\n",
      "dtypes: object(5)\n",
      "memory usage: 390.5+ KB\n"
     ]
    }
   ],
   "source": [
    "customer.info()"
   ]
  },
  {
   "cell_type": "markdown",
   "id": "34f0459b",
   "metadata": {},
   "source": [
    "### Drop Duplicates\n"
   ]
  },
  {
   "cell_type": "code",
   "execution_count": 20,
   "id": "e80e8e62",
   "metadata": {},
   "outputs": [],
   "source": [
    "customer = customer.drop_duplicates(subset = ['Customer ID', 'Customer Name'],\n",
    "  keep = 'first').reset_index(drop = True)"
   ]
  },
  {
   "cell_type": "code",
   "execution_count": 21,
   "id": "31e9257b",
   "metadata": {},
   "outputs": [
    {
     "name": "stdout",
     "output_type": "stream",
     "text": [
      "<class 'pandas.core.frame.DataFrame'>\n",
      "RangeIndex: 793 entries, 0 to 792\n",
      "Data columns (total 5 columns):\n",
      " #   Column         Non-Null Count  Dtype \n",
      "---  ------         --------------  ----- \n",
      " 0   Customer ID    793 non-null    object\n",
      " 1   Customer Name  793 non-null    object\n",
      " 2   Segment        793 non-null    object\n",
      " 3   City           793 non-null    object\n",
      " 4   State          793 non-null    object\n",
      "dtypes: object(5)\n",
      "memory usage: 31.1+ KB\n"
     ]
    }
   ],
   "source": [
    "customer.info()"
   ]
  },
  {
   "cell_type": "code",
   "execution_count": 22,
   "id": "8f010d99",
   "metadata": {},
   "outputs": [],
   "source": [
    "customer.to_csv('C:/Users/NHQ/Desktop/MindX Test/data/Customer.csv',index= False)"
   ]
  },
  {
   "cell_type": "code",
   "execution_count": 24,
   "id": "67a48355",
   "metadata": {},
   "outputs": [],
   "source": [
    "orders.to_csv('C:/Users/NHQ/Desktop/MindX Test/data/Order.csv',index= False)"
   ]
  },
  {
   "cell_type": "code",
   "execution_count": 25,
   "id": "91964ffd",
   "metadata": {},
   "outputs": [
    {
     "data": {
      "text/plain": [
       "Row ID             0\n",
       "Order ID           0\n",
       "Order Date         0\n",
       "Ship Date          0\n",
       "Ship Mode          0\n",
       "Customer ID        0\n",
       "Country/Region     0\n",
       "Postal Code       11\n",
       "Region             0\n",
       "Product ID         0\n",
       "Category           0\n",
       "Sub-Category       0\n",
       "Product Name       0\n",
       "Sales              0\n",
       "Quantity           0\n",
       "Discount           0\n",
       "Profit             0\n",
       "dtype: int64"
      ]
     },
     "execution_count": 25,
     "metadata": {},
     "output_type": "execute_result"
    }
   ],
   "source": [
    "orders.isna().sum()"
   ]
  },
  {
   "cell_type": "code",
   "execution_count": 26,
   "id": "599c11a1",
   "metadata": {},
   "outputs": [
    {
     "data": {
      "text/plain": [
       "Customer ID      0\n",
       "Customer Name    0\n",
       "Segment          0\n",
       "City             0\n",
       "State            0\n",
       "dtype: int64"
      ]
     },
     "execution_count": 26,
     "metadata": {},
     "output_type": "execute_result"
    }
   ],
   "source": [
    "customer.isna().sum()"
   ]
  },
  {
   "cell_type": "code",
   "execution_count": null,
   "id": "eb9d4aec",
   "metadata": {},
   "outputs": [],
   "source": []
  }
 ],
 "metadata": {
  "kernelspec": {
   "display_name": "Python 3 (ipykernel)",
   "language": "python",
   "name": "python3"
  },
  "language_info": {
   "codemirror_mode": {
    "name": "ipython",
    "version": 3
   },
   "file_extension": ".py",
   "mimetype": "text/x-python",
   "name": "python",
   "nbconvert_exporter": "python",
   "pygments_lexer": "ipython3",
   "version": "3.10.2"
  }
 },
 "nbformat": 4,
 "nbformat_minor": 5
}
